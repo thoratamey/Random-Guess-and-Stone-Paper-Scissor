{
 "cells": [
  {
   "cell_type": "markdown",
   "metadata": {},
   "source": [
    "# Assignment No.1"
   ]
  },
  {
   "cell_type": "markdown",
   "metadata": {},
   "source": [
    "## Task No.1"
   ]
  },
  {
   "cell_type": "markdown",
   "metadata": {},
   "source": [
    "### Random Guessing Number"
   ]
  },
  {
   "cell_type": "code",
   "execution_count": 4,
   "metadata": {},
   "outputs": [
    {
     "name": "stdout",
     "output_type": "stream",
     "text": [
      "Enter a value for x which is the range\n",
      "35\n",
      "How many times do you want to try?\n",
      "3\n",
      "Enter a number between 1 to 35\n",
      "23\n",
      "The number guessed is 21\n",
      "Greater\n",
      "Enter a number between 1 to 35\n",
      "22\n",
      "The number guessed is 4\n",
      "Greater\n",
      "Enter a number between 1 to 35\n",
      "34\n",
      "The number guessed is 14\n",
      "Greater\n"
     ]
    }
   ],
   "source": [
    "import random\n",
    "x=int(input(\"Enter a value for x which is the range\\n\"))\n",
    "a=int(input(\"How many times do you want to try?\\n\"))\n",
    "b=0\n",
    "while b !=a:\n",
    "    b+=1\n",
    "    guess=random.randint(1,x)\n",
    "    y=int(input(f\"Enter a number between 1 to {x}\\n\"))\n",
    "    print(f\"The number guessed is {guess}\")\n",
    "    if guess==y:\n",
    "        print(\"You Won\")\n",
    "    elif guess<y:\n",
    "        print(\"Greater\")\n",
    "    elif guess>y:\n",
    "        print(\"Lesser\")\n",
    "    else:\n",
    "        print(\"Invalid\")"
   ]
  },
  {
   "cell_type": "markdown",
   "metadata": {},
   "source": [
    "## Task No.2"
   ]
  },
  {
   "cell_type": "markdown",
   "metadata": {},
   "source": [
    "### Rock Paper Scissor"
   ]
  },
  {
   "cell_type": "code",
   "execution_count": 5,
   "metadata": {},
   "outputs": [
    {
     "name": "stdout",
     "output_type": "stream",
     "text": [
      "Enter a choice(rock,paper,scissor):\n",
      "rock\n",
      "You choose rock, Computer choose scissor\n",
      "\n",
      "You win!\n"
     ]
    }
   ],
   "source": [
    "import random\n",
    "user=input(\"Enter a choice(rock,paper,scissor):\\n\")\n",
    "possible=[\"rock\",\"paper\",\"scissor\"]\n",
    "computer=random.choice(possible)\n",
    "print(f\"You choose {user}, Computer choose {computer}\\n\")\n",
    "if user==computer:\n",
    "    print(\"It's a tie!\")\n",
    "elif user==\"rock\":\n",
    "    if computer==\"scissor\":\n",
    "        print(\"You win!\")\n",
    "    else:\n",
    "        print(\"You lose\")\n",
    "elif user==\"paper\":\n",
    "    if computer==\"rock\":\n",
    "        print(\"You win!\")\n",
    "    else:\n",
    "        print(\"You lose\")\n",
    "elif user==\"scissor\":\n",
    "    if computer==\"paper\":\n",
    "        print(\"You win!\")\n",
    "    else:\n",
    "        print(\"You lose\")"
   ]
  }
 ],
 "metadata": {
  "kernelspec": {
   "display_name": "Python 3",
   "language": "python",
   "name": "python3"
  },
  "language_info": {
   "codemirror_mode": {
    "name": "ipython",
    "version": 3
   },
   "file_extension": ".py",
   "mimetype": "text/x-python",
   "name": "python",
   "nbconvert_exporter": "python",
   "pygments_lexer": "ipython3",
   "version": "3.8.5"
  }
 },
 "nbformat": 4,
 "nbformat_minor": 4
}
